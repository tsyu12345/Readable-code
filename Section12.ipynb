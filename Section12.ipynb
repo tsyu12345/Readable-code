{
 "cells": [
  {
   "attachments": {},
   "cell_type": "markdown",
   "metadata": {},
   "source": [
    "# 12章 コードに思いを込める"
   ]
  },
  {
   "attachments": {},
   "cell_type": "markdown",
   "metadata": {},
   "source": [
    "> おばあちゃんに分かるように説明できなければ、本当に理解したとは言えない。\n",
    "アルバート・アインシュタイン"
   ]
  },
  {
   "attachments": {},
   "cell_type": "markdown",
   "metadata": {},
   "source": [
    "ソースコードは、システムの動作を最も細かく分かりやすく他人に伝えるためのものでもある。分かりやすく他人に伝えるためには、「簡単な言葉」で説明することが重要である。\n",
    "\n",
    "この章では、コードを簡単な言葉で説明するためのテクニックを学ぶ。\n",
    "\n",
    "* コードの動作を簡単な言葉で同僚にも分かるように説明する\n",
    "* その説明の中で使っているキーワードやフレーズに注目する。\n",
    "* その説明に合わせてコードを書く\n"
   ]
  },
  {
   "attachments": {},
   "cell_type": "markdown",
   "metadata": {},
   "source": [
    "# 12.1 ロジックを明確に説明する\n",
    "\n",
    "ユーザーにページの閲覧権限があるコードか否かを判定するコードを考える。\n",
    "\n",
    "* BAD: 否定形の条件が多く、ifの判定分が複雑になっている、ネストが深い\n",
    "```php\n",
    "$is_admin = is_admin_request();\n",
    "if($document) {\n",
    "    if(!$is_admin && ($document['username'] != $_SESSION['username'])) {\n",
    "        return not_authorized();\n",
    "    }\n",
    "} else {\n",
    "    if(!$is_admin) {\n",
    "        return not_authorized();\n",
    "    }\n",
    "}\n",
    "```\n",
    "このコードのロジックを簡単に説明すると、\n",
    "* 以下の権限があるユーザーにページを表示する\n",
    "    * 管理者\n",
    "    * ドキュメントの所有者\n",
    "* 上の者以外は閲覧権限がないので、閲覧権限がないというページを表示する\n",
    "\n",
    "これを、以下のように書き直す\n",
    "* GOOD: ロジックを明確に説明した上で、コードを書くと分かりやすい\n",
    "  * さらにこのコードは、ifのネストが深くないので、読みやすい\n",
    "\n",
    "```php\n",
    "if(is_admin_request()) {\n",
    "    //権限あり\n",
    "} else if($document && ($document['username'] == $_SESSION['username'])) {\n",
    "    //権限あり\n",
    "} else {\n",
    "    return not_authorized();\n",
    "}\n",
    "```\n",
    "\n"
   ]
  },
  {
   "attachments": {},
   "cell_type": "markdown",
   "metadata": {},
   "source": [
    "# 12.2 ライブラリを知る\n",
    "\n",
    "> 簡潔なコードを書くには、ライブラリ側が何を提供しているかを知ることだ。\n",
    "\n",
    "以下のJSのコードは、ユーザーに操作ヒントを提示するコードだ\n",
    "```js\n",
    "var showNextTip = function() {\n",
    "    const numTips = $('.tip').size();\n",
    "    const shownTip = $('.tip:visible').size();\n",
    "    const showmTipNum = Number(shownTip.attr('id').slice(4));\n",
    "    if(shownTipNum === numTips) {\n",
    "        $('#tip-1').show();\n",
    "    } else {\n",
    "        $(`#tip-${showmTipNum + 1}`).show();\n",
    "    }\n",
    "    shownTip.hide();\n",
    "}\n",
    "```\n",
    "このコードのロジックを簡単に説明する\n",
    "* 今見えているヒントを非表示にする\n",
    "* 次のヒントを探索して表示する\n",
    "    * ヒントがなければ、最初のヒントを表示する \n",
    "これを、以下のように書き直す\n",
    "* GOOD: ライブラリを知ることで、簡潔に書ける\n",
    "  * 直接数値（マジックナンバー）を使わないで済む\n",
    "  * 処理が直感的に分かる良いコードになる\n",
    "```js\n",
    "var showNextTip = function() {\n",
    "    const curTip = $('.tip:visible').hide() //今見えているヒントを非表示にする\n",
    "    const nextTip = curTip.next('.tip') //次のヒントを探索する\n",
    "    if(nextTip.size() === 0) {\n",
    "        $('#tip-1').show(); //ヒントがなければ、最初のヒントを表示する\n",
    "    } else {\n",
    "        nextTip.show();\n",
    "    }\n",
    "}\n",
    "```"
   ]
  },
  {
   "attachments": {},
   "cell_type": "markdown",
   "metadata": {},
   "source": [
    "# 12.4 まとめ\n",
    "\n",
    "* コードを書く前に、そのコードのロジックを簡単な言葉で説明する\n",
    "  * これは分割すべき下位問題を見つけるためにも有効\n",
    "* 問題やプログラム設計を言葉で説明できないときは、何かを見落としているか、詳細が明確になっていないという事。\n",
    "  * その欠けている部分を探すのにも、コードを書く前にロジックを説明することが有効\n",
    "* このような手法は「ラバーダッキング」と呼ばれることがある。"
   ]
  }
 ],
 "metadata": {
  "kernelspec": {
   "display_name": "Python 3",
   "language": "python",
   "name": "python3"
  },
  "language_info": {
   "name": "python",
   "version": "3.10.0"
  },
  "orig_nbformat": 4,
  "vscode": {
   "interpreter": {
    "hash": "46e2f2c2539a0f155a9002db048ae27b241bc88e88056a1f76226b4698533502"
   }
  }
 },
 "nbformat": 4,
 "nbformat_minor": 2
}
