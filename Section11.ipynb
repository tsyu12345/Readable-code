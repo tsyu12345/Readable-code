{
 "cells": [
  {
   "cell_type": "markdown",
   "metadata": {},
   "source": [
    "# 11. 一度に一つのことを"
   ]
  },
  {
   "attachments": {},
   "cell_type": "markdown",
   "metadata": {},
   "source": [
    "一度に複数のことをするコードは理解しにくい。\n",
    "\n",
    "> コードは1つずつのタスクを行うようにしなければいけない\n",
    "\n"
   ]
  },
  {
   "attachments": {},
   "cell_type": "markdown",
   "metadata": {},
   "source": [
    "## 11.1 タスクは小さくする\n",
    "\n",
    "関数を設計する際に、「使用するデータ形式への変数のパース」「プロパティの更新」といったように、1つのタスクを行うようにできている関数でも、細かく見れば複数のタスクを行っていることがある。\n",
    "\n",
    "このような場合は、補助関数に切り分けたりすることで、確実に１関数１タスクになるようにする。"
   ]
  },
  {
   "attachments": {},
   "cell_type": "markdown",
   "metadata": {},
   "source": [
    "## 11.2 オブジェクトから値を抽出する\n",
    "\n",
    "オブジェクトのメソッドなどをリファクタリングする際には、まず一度に複数のタスクを行っているかどうかを確認する。\n",
    "\n",
    "次に、そのタスクを目的に応じて分割・並べる。\n",
    "\n",
    "また、三項演算子や`a || b || c`のような言語特融の構文もつかって複雑化したコードを簡略化できないか考える。"
   ]
  },
  {
   "attachments": {},
   "cell_type": "markdown",
   "metadata": {},
   "source": [
    "## 11.3 もっと大きな例\n",
    "\n",
    "次のようにHTTPレスポンスを処理する関数`UpdateCounts()`を考える\n",
    "\n",
    "```c#\n",
    "void UpdateCounts(HttpDownload hd) {\n",
    "\n",
    "    if(!hd.has_event_log() || !hd.has_event_log().has_exit_state()) {\n",
    "        counts[\"ExitState\"][\"unknown\"]++;\n",
    "    } else {\n",
    "        counts[\"ExitState\"][hd.event_log().exit_state()]++;\n",
    "    }\n",
    "\n",
    "    if(hd.has_http_headers()) {\n",
    "        if(hd.http_headers().has_status_code()) {\n",
    "            counts[\"StatusCode\"][hd.http_headers().status_code()]++;\n",
    "        } else {\n",
    "            counts[\"StatusCode\"][\"unknown\"]++;\n",
    "        }\n",
    "    } else {\n",
    "        counts[\"StatusCode\"][\"unknown\"]++;\n",
    "    }\n",
    "    .....\n",
    "}\n",
    "```\n",
    "このコードには、次のような問題がある。\n",
    "* タスクを交互に切り替えている\n",
    "* 重複コードやキーのハードコーディングがある\n",
    "\n",
    "こういった場合は、タスクを切り分け、ブロックごとにタスク処理をまとめる事ができる。\n",
    "\n"
   ]
  },
  {
   "attachments": {},
   "cell_type": "markdown",
   "metadata": {},
   "source": [
    "# 11.4 まとめ\n",
    "\n",
    "* コードを構成する簡単な技法「一度に1つのタスクだけを行う」\n",
    "* 可読性の悪い（よみにくい）コードがあれば、そこで行われているタスクを全列挙する\n",
    "  * その中で、別関数への切り分けやヘルパー関数の作成により、タスクを分割できるものがあるだろう"
   ]
  }
 ],
 "metadata": {
  "kernelspec": {
   "display_name": "Python 3",
   "language": "python",
   "name": "python3"
  },
  "language_info": {
   "codemirror_mode": {
    "name": "ipython",
    "version": 3
   },
   "file_extension": ".py",
   "mimetype": "text/x-python",
   "name": "python",
   "nbconvert_exporter": "python",
   "pygments_lexer": "ipython3",
   "version": "3.10.0b3"
  },
  "orig_nbformat": 4,
  "vscode": {
   "interpreter": {
    "hash": "46e2f2c2539a0f155a9002db048ae27b241bc88e88056a1f76226b4698533502"
   }
  }
 },
 "nbformat": 4,
 "nbformat_minor": 2
}
