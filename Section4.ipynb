{
 "cells": [
  {
   "cell_type": "markdown",
   "metadata": {},
   "source": [
    "# 4 美しさ"
   ]
  },
  {
   "cell_type": "markdown",
   "metadata": {},
   "source": [
    "> 優れたソースコードは「目に優しい」すなわち「読みやすいもの」でなければならない。\n",
    "\n",
    "* 一貫性のある記述で、読み手が慣れている記法パターンを使う\n",
    "* 似ているコードは、似せる。\n",
    "* 関連する関数やメソッドはまとめてブロックにする。"
   ]
  },
  {
   "cell_type": "markdown",
   "metadata": {},
   "source": [
    "## 4.1 なぜ美しさが大切なのか?\n",
    "\n",
    "> コーディングの時間の大半は、コードを読む時間。ゆえに、流し読みができるコードほど、理解しやすく扱いやすい良いコードということだ。\n",
    "\n",
    "```java\n",
    "/*bad:以下のコードは、public, privateが入り混じっていて、とても読みにくい。*/\n",
    "public class StatsKeeper {\n",
    "\n",
    "    public: \n",
    "        void Add(double d);\n",
    "    private int count;\n",
    "\n",
    "    public:\n",
    "        double Average()\n",
    "    private:\n",
    "        double minimum;\n",
    "}\n",
    "\n",
    "/*good:public, private を区別し、それぞれのブロックでまとめる。*/\n",
    "public class StatsKeeper {\n",
    "\n",
    "    public: \n",
    "        void Add(double d);\n",
    "        double Average()\n",
    "    private:\n",
    "        int count;\n",
    "        double minimum;\n",
    "}\n",
    "```"
   ]
  },
  {
   "cell_type": "markdown",
   "metadata": {},
   "source": [
    "## 4.2 一貫性のある簡潔な改行配置\n",
    "\n",
    "> コードのシルエットを整え、似ている性質のコードは似せる。\n",
    "\n",
    "```java\n",
    "/**\n",
    " * bad:2番目のインスタンスのみ他と改行位置が異なるので、シルエットがおかしい。\n",
    " *     また不必要にコメントを打ちすぎている。\n",
    " */\n",
    " public class Tester {\n",
    "    public static final TcpConnectionSimulator wifi = new TcpConnectionSimulator(\n",
    "        500, //Kbps\n",
    "        80, //milliseconds\n",
    "        200,//jitter\n",
    "        1 //packet loss\n",
    "    );\n",
    "\n",
    "    public static final TcpConnectionSimulator t3_filter = new \n",
    "    TcpConnectionSimulator(\n",
    "        500, //Kbps\n",
    "        80, //milliseconds\n",
    "        200,//jitter\n",
    "        1 //packet loss\n",
    "    );\n",
    "\n",
    "    public static final TcpConnectionSimulator cell = new TcpConnectionSimulator(\n",
    "        500, //Kbps\n",
    "        80, //milliseconds\n",
    "        200,//jitter\n",
    "        1 //packet loss\n",
    "    );\n",
    " }\n",
    "\n",
    " /**\n",
    "  * good:インスタンスのシルエットを整え、コメントを減らす。\n",
    "  */\n",
    "    public class Tester {\n",
    "\n",
    "        //TcpConnectionSimulator(throughput, latency, jitter, packet loss)\n",
    "        //                       [kbps]       [ms]    [ms]    [%]\n",
    "\n",
    "        public static final TcpConnectionSimulator wifi = \n",
    "        new TcpConnectionSimulator(500,80,200,1);\n",
    "    \n",
    "        public static final TcpConnectionSimulator t3_filter = \n",
    "        new TcpConnectionSimulator(500,80,200,1);\n",
    "    \n",
    "        public static final TcpConnectionSimulator cell = \n",
    "        new TcpConnectionSimulator(500,80,200,1);"
   ]
  }
 ],
 "metadata": {
  "kernelspec": {
   "display_name": "Python 3.10.0b3 64-bit ('3.10.0b3')",
   "language": "python",
   "name": "python3"
  },
  "language_info": {
   "name": "python",
   "version": "3.10.0"
  },
  "orig_nbformat": 4,
  "vscode": {
   "interpreter": {
    "hash": "46e2f2c2539a0f155a9002db048ae27b241bc88e88056a1f76226b4698533502"
   }
  }
 },
 "nbformat": 4,
 "nbformat_minor": 2
}
