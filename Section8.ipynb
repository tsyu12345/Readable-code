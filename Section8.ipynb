{
 "cells": [
  {
   "attachments": {},
   "cell_type": "markdown",
   "metadata": {},
   "source": [
    "# 8.巨大な式を分割する"
   ]
  },
  {
   "attachments": {},
   "cell_type": "markdown",
   "metadata": {},
   "source": [
    "> 巨大な式は飲み込みやすい大きさに分割する"
   ]
  },
  {
   "attachments": {},
   "cell_type": "markdown",
   "metadata": {},
   "source": [
    "# 8.1 説明変数\n",
    "\n",
    "if文の条件式などで、以下のような書き方をするときがある\n",
    "```javaScript\n",
    "if(id.split(':')[0].strip() === 'root') {\n",
    "    ....\n",
    "}\n",
    "```\n",
    "このような書き方は、式の意味が分かりにくいので、変数に名前を付けて対応することができる。\n",
    "```javaScript\n",
    "const username = id.split(':')[0].strip();\n",
    "if(username === 'root') {\n",
    "    ....\n",
    "}\n",
    "```\n"
   ]
  },
  {
   "attachments": {},
   "cell_type": "markdown",
   "metadata": {},
   "source": [
    "# 8.2 要約変数\n",
    "\n",
    "コードの塊を1つの変数に置き換えたものを、要約変数と呼ぶ。\n",
    "```TypeScript\n",
    "//要約変数なし\n",
    "if(request.user.id === document.onwer_id) {\n",
    "    ....\n",
    "}\n",
    "//要約変数あり\n",
    "const user_is_owner: boolean = request.user.id === document.onwer_id;\n",
    "if(user_is_owner) {\n",
    "    ....\n",
    "}\n",
    "```\n",
    "どちらがコードの意図を伝えるのに明確な書き方だろうか。間違いなく、要約変数ありの方が分かりやすい。"
   ]
  },
  {
   "attachments": {},
   "cell_type": "markdown",
   "metadata": {},
   "source": [
    "# 8.4 短絡評価の悪用\n",
    "\n",
    "boolean型の演算子`a || b`は `a`が`true`の時、`b`を評価しない。これを利用して、以下のような書き方をすることがある。\n",
    "```C#\n",
    "assert((!(buket = FinedBucket(key))) || !buket -> IsOccupied());\n",
    "```\n",
    "このような書き方は、読み手にとって、意図が分かりにくい。以下のように書き換えることができる。\n",
    "```C#\n",
    "bucket = FinedBucket(key);\n",
    "assert(!bucket || !bucket -> IsOccupied());\n",
    "```\n",
    "1行でまとめられるコードは頭が良さそうで、すごい。けど、読みやすいコードの方がもっとすごい。\n",
    "> 「頭がいい」コードに気をつける。あとで他人がコードを読むときに分かりにくくなる。"
   ]
  },
  {
   "attachments": {},
   "cell_type": "markdown",
   "metadata": {},
   "source": [
    "# 8.5 複雑なロジックと格闘する\n",
    "\n",
    "複雑な条件になってしまった場合、反対の条件を見ることでコードを簡単にすることができる。\n",
    "```TypeScript\n",
    "//指定の範囲に重なっているかどうかを判定する\n",
    "function isOverlaps(other: Range):boolean {\n",
    "    return (begin >= other.begin && begin < other.end) ||\n",
    "            (end > other.begin && end <= other.end) ||\n",
    "            (begin <= other.begin && end >= other.end);\n",
    "\n",
    "}\n",
    "```\n",
    "「範囲に重なっている」の反対の意味は「重なっていない」だ。\\\\\n",
    "重なっている条件をすべて書き出すよりも、重なっていない条件を書き出す方がコードが簡潔になる。\n",
    "```TypeScript\n",
    "function isOverlaps(other: Range):boolean {\n",
    "    if(begin <= other.begin) return false;\n",
    "    if(end >= other.end) return false;\n",
    "    //早期リターンを活用して可読性を向上できる。\n",
    "    return true;\n",
    "}\n",
    "```\n",
    "\n"
   ]
  },
  {
   "attachments": {},
   "cell_type": "markdown",
   "metadata": {},
   "source": [
    "# 8.6 巨大な文を分割する\n",
    "\n",
    "以下のJSコードは、巨大な文になっている。\n",
    "```javaScript\n",
    "var update_highlight = function(message_num) {\n",
    "    if($(\"#vote_value\" + message_num).html() === 'Up') {\n",
    "        $(\"#thumbs_up\" + message_num).addClass();\n",
    "        $(\"#thumbs_down\" + message_num).removeClass();\n",
    "    } else if ($(\"#vote_value\" + message_num).html() === 'Down') {\n",
    "        $(\"#thumbs_up\" + message_num).removeClass();\n",
    "        $(\"#thumbs_down\" + message_num).addClass();\n",
    "    } else {\n",
    "        $(\"#thumbs_up\" + message_num).removeClass();\n",
    "        $(\"#thumbs_down\" + message_num).removeClass();\n",
    "    }\n",
    "}\n",
    "```\n",
    "このコードには以下の問題点がある。\n",
    "* 同じ文字列を何度も書いている：保守性の観点で良くない。\n",
    "* 条件式が冗長、条件式内で代入、連結計算も一緒にやってしまっているので見ずらい。\n",
    "* 一見で何を意図しているか把握することが難しい。\n",
    "要約変数の概念を使って、次のように書き換えることができるだろう。\n",
    "```javaScript\n",
    "var update_highlight = function(message_num) {\n",
    "    const vote_value = $(\"#vote_value\" + message_num).html();\n",
    "    const thumbs_up = $(\"#thumbs_up\" + message_num);\n",
    "    const thumbs_down = $(\"#thumbs_down\" + message_num);\n",
    "    const highlight = \"highlighted\";\n",
    "\n",
    "    if(vote_value === 'Up') {\n",
    "        thumbs_up.addClass(highlight);\n",
    "        thumbs_down.removeClass(highlight);\n",
    "    } else if (vote_value === 'Down') {\n",
    "        thumbs_up.removeClass(highlight);\n",
    "        thumbs_down.addClass(highlight);\n",
    "    } else {\n",
    "        thumbs_up.removeClass(highlight);\n",
    "        thumbs_down.removeClass(highlight);\n",
    "    }\n",
    "}\n",
    "```"
   ]
  },
  {
   "attachments": {},
   "cell_type": "markdown",
   "metadata": {},
   "source": [
    "# 8.8 まとめ\n",
    "\n",
    "* 巨大な式は分割しよう\n",
    "* 説明変数と要約変数を導入してみよう。\n",
    "* 簡潔な名前で式を表現することで、コードを文書化できる。コメントに頼らなくていい\n",
    "* コードの主要な概念を読み手が認識しやすくなる。\n",
    "* 条件式が複雑になってきたら、反対の条件で早期リターンしてみよう。"
   ]
  }
 ],
 "metadata": {
  "kernelspec": {
   "display_name": "Python 3",
   "language": "python",
   "name": "python3"
  },
  "language_info": {
   "name": "python",
   "version": "3.10.0b3 (tags/v3.10.0b3:865714a, Jun 17 2021, 20:39:25) [MSC v.1929 64 bit (AMD64)]"
  },
  "orig_nbformat": 4,
  "vscode": {
   "interpreter": {
    "hash": "46e2f2c2539a0f155a9002db048ae27b241bc88e88056a1f76226b4698533502"
   }
  }
 },
 "nbformat": 4,
 "nbformat_minor": 2
}
