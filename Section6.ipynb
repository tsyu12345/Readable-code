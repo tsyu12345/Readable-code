{
 "cells": [
  {
   "attachments": {},
   "cell_type": "markdown",
   "metadata": {},
   "source": [
    "# 6.コメントは正確で簡潔に"
   ]
  },
  {
   "attachments": {},
   "cell_type": "markdown",
   "metadata": {},
   "source": [
    "* よいコメントとは何だろう。\n",
    "  > コメントは領域に対する情報の比率が高ければ高いほど良い。"
   ]
  },
  {
   "attachments": {},
   "cell_type": "markdown",
   "metadata": {},
   "source": [
    "## 6.1 コメントを簡潔にしておく\n",
    "\n",
    "* 例えば、型定義のdocsを残すとき。\n",
    "```cpp\n",
    "\n",
    "// intはCategoryTypeのID\n",
    "// 1つ目のfloatは、'score'\n",
    "// 2つ目のfloatは、'weight'\n",
    "typedef hash_map<int,pair<float, float> > SourceMap;\n",
    "\n",
    "```\n",
    "3行もコメントは必要か？？3行もコメントしてる割には、情報量が少ない。\n",
    "\n",
    "以下のように改善できるだろう。\n",
    "```cpp\n",
    "// CategoryType -> (score, weight)\n",
    "typedef hash_map<int,pair<float, float> > SourceMap;\n",
    "\n",
    "```\n"
   ]
  },
  {
   "attachments": {},
   "cell_type": "markdown",
   "metadata": {},
   "source": [
    "## 6.2 あいまいな代名詞は避ける。\n",
    "\n",
    "コメント本来の役割は、コードを読む人に、コードの意図を伝えること、すなわちコードを読み飛ばしても何をしているかを分からせる必要がある。\\\\\n",
    "コメント中にあいまいな代名詞を使用すると、その分だけ読む人が混乱することになる。\n",
    "\n",
    "```cpp\n",
    "//データをキャッシュに入れる。入れる前にそのサイズをチェックする。\n",
    "```\n",
    "BAD:「その」は何を指しているのか？？データ？？キャッシュ？？\n",
    "    \n",
    "```cpp\n",
    "//データをキャッシュに入れる。入れる前にデータのサイズをチェックする。\n",
    "```\n",
    "GOOD:「その」を「データ」に置き換えることで、「その」が明確になった。"
   ]
  },
  {
   "attachments": {},
   "cell_type": "markdown",
   "metadata": {},
   "source": [
    "## 6.3 歯切れの悪い文章を磨く\n",
    "\n",
    "以下のコメントはどちらが理解する時間が短いだろうか？\n",
    "\n",
    "```python\n",
    "# 過去にクロールしたURLかどうかにより、クローリングの優先度を決める。\n",
    "# これまでクロールしていないURLは、優先度が高い。\n",
    "```\n",
    "* 下のコメントの方が、理解する時間が短い。\n",
    "  * 「～かどうか」という分岐文言がなく単純\n",
    "  * 上のコメントは、クロールするURLの優先度を決めるということがわかりにくいが、下のコメントは、クロールするURLの優先度を決める明確な方法が書かれている。"
   ]
  },
  {
   "attachments": {},
   "cell_type": "markdown",
   "metadata": {},
   "source": [
    "## 6.4 関数の動作を正確に記載する\n",
    "\n",
    "関数などにdocsを付けるとき、説明を単純化しすぎていないだろうか？\\\\\n",
    "次のような、ファイルの行数を数える関数を考える。\n",
    "\n",
    "```python\n",
    "def count_lines(filename):\n",
    "    \"\"\"ファイルの行数を返す\"\"\"\n",
    "    ...\n",
    "```\n",
    "* このコメントには以下の問題点が存在する\n",
    "    * 改行コードを含むのか？含む場合は1行としてカウントするのか？含まない場合は1行としてカウントするのか？\n",
    "    * '\\r'の扱いはどうするのか？\n",
    "実装に適したコメントを書くことで、読み手にコメントのみで挙動を理解してもらえる。\n",
    "すなわち、安全に使ってもらえるようにできる。\n",
    "    \n",
    "```python\n",
    "def count_lines(filename):\n",
    "    \"\"\"ファイル内の改行コード'\\n'を数えて返す。\"\"\"\n",
    "```\n",
    "\n"
   ]
  },
  {
   "attachments": {},
   "cell_type": "markdown",
   "metadata": {},
   "source": [
    "## 6.5 入出力のコーナーケースに実例を使う。\n",
    "\n",
    "挙動を説明するときに、実例を交えて説明するとより分かりやすくなることがある。\n",
    "\n",
    "```TypeScript\n",
    "/**\n",
    "    * 文字列から対象文字を取り除く。\n",
    "    * @param s 文字列\n",
    "    * @param chars 対象文字\n",
    "    * @return 対象文字を取り除いた文字列\n",
    "*/\n",
    "function strip(s, chars): string {\n",
    "    ...\n",
    "}\n",
    "```\n",
    "しかし、このコメントだけでは正確な挙動を把握することはできない。\n",
    "* `chars`は、順序のない文字列？それとも文字のリスト？\\\\\n",
    "* `src`の末尾に`chars`の文字がある場合はどうなるのか？\\\\\n",
    "  \n",
    "このような疑問は、実例を交えて説明することで解決できる。\n",
    "\n",
    "```TypeScript\n",
    "/**\n",
    "    ...\n",
    "    * @example strip(\"abba/a/ba\", \"ab\") -> \"/a/\"\n",
    "*/\n",
    "function strip(s, chars): string {\n",
    "    ...\n",
    "}\n",
    "```\n",
    "ただし、実例を使うときは以下の点に気をつける。\n",
    "* 実例は、簡潔にしすぎない。挙動を正確に把握できない実例は意味をなさない。\n",
    "* エッジケース（境界値）など、挙動を説明するのに重要なケースを使うこと。\n",
    "* 読みさすさのために、実装にない結果を実例に使わないこと。例えばソートするなど。"
   ]
  },
  {
   "attachments": {},
   "cell_type": "markdown",
   "metadata": {},
   "source": [
    "## 6.6 コードの意図を書く\n",
    "\n",
    "コメントはコードの意図を伝えることを目的としている。\n",
    "しかし、コードの動作をそのままコメントするだけで、何の情報も付加していないコメントはＮＧだ。\n",
    "\n",
    "```javascript\n",
    "function displayData(data) {\n",
    "    data.sort();\n",
    "\n",
    "    //逆順にイテレーションする\n",
    "    for (let i = data.length - 1; i >= 0; i--) {\n",
    "        console.log(data[i]);\n",
    "    }\n",
    "    ...\n",
    "}\n",
    "```\n",
    "このようなコメントは一見正しいようにもみえるが、コードを見れば分かることをコメントしているうえ、状況に応じてもっと適切な表現があるはずだ。\n",
    "\n",
    "```javascript\n",
    "//例：商品データを表示する\n",
    "function displayData(data) {\n",
    "    data.sort();\n",
    "\n",
    "    //値段の高い順に表示する\n",
    "    for (let i = data.length - 1; i >= 0; i--) {\n",
    "        console.log(data[i]);\n",
    "    }\n",
    "    ...\n",
    "}\n",
    "```\n",
    "コードの挙動をプログラムレベルで説明するのではなく、より高レベル（一般的）な言葉で説明することで、読み手にとってより分かりやすいコメントになる。\\\\\n",
    "加えて、このコメントを見た検査官がバグに気付くことができるかもしれない。（例えば、価格の低い順に出すはずなのに、「高い順に表示する」となっているコメントを見たらどう思うだろう）"
   ]
  },
  {
   "attachments": {},
   "cell_type": "markdown",
   "metadata": {},
   "source": [
    "## 6.7 名前付き引数コメント\n",
    "\n",
    "pythonでは、関数呼び出し時に引数名を指定することができるので、関数呼び出し時のパラメータがなんなのかを明示できる。\n",
    "\n",
    "```python\n",
    "def request(url, timeout, callback):\n",
    "    return callback(url)\n",
    "\n",
    "request(url='http://www.example.com', timeout=10, callback=lambda x: x)\n",
    "```\n",
    "しかし、c++やjavaなどでは、関数呼び出し時に引数名を指定することはできない。\\\\\n",
    "そのため、関数呼び出し時のパラメータがなんなのかを明示するために、コメントを使うことがある。\n",
    "\n",
    "```c++\n",
    "void request(const std::string& url, int timeout, const std::function<void(const std::string&)>& callback) {\n",
    "    return callback(url);\n",
    "}\n",
    "\n",
    "request(/*url=*/\"http://www.example.com\", /*timeout=*/10, /*callback=*/[](const std::string& url) { return url; });\n",
    "```"
   ]
  },
  {
   "attachments": {},
   "cell_type": "markdown",
   "metadata": {},
   "source": [
    "## 6.8 情報密度の高い言葉を使う\n",
    "\n",
    "長いコメントの場合は特に、イディオムや専門用語を使うことで、理解を助けることができる。\n",
    "\n",
    "* ヒューリスティック：経験則、経験主義\n",
    "* ナイーブソリューション：単純な解決策\n",
    "* キャッシュ：一時的に保存すること\n",
    "\n",
    "このような単語は、冗長なコメントや、繰り返しのコメントを避けることができる。"
   ]
  },
  {
   "attachments": {},
   "cell_type": "markdown",
   "metadata": {},
   "source": [
    "## 6.9 まとめ\n",
    "\n",
    "小さな領域に、できるだけ多くの情報を詰め込んだコメントを書くことが大切だ。\\\\\n",
    "\n",
    "* 「それ」や「これ」といった抽象的な代名詞を使わない。\n",
    "* 関数の動作はできるだけ正確に書く。\n",
    "* 実例を交えたコメントを残す\n",
    "* コードの意図を伝える場合は、より高レベル（一般的）な言葉で説明する。\n",
    "* 引数名を指定できない言語では、引数名をコメントで明示する。\n",
    "* 専門用語やイディオムを使い、コメントを簡潔にする。"
   ]
  }
 ],
 "metadata": {
  "kernelspec": {
   "display_name": "Python 3",
   "language": "python",
   "name": "python3"
  },
  "language_info": {
   "name": "python",
   "version": "3.10.0b3 (tags/v3.10.0b3:865714a, Jun 17 2021, 20:39:25) [MSC v.1929 64 bit (AMD64)]"
  },
  "orig_nbformat": 4,
  "vscode": {
   "interpreter": {
    "hash": "46e2f2c2539a0f155a9002db048ae27b241bc88e88056a1f76226b4698533502"
   }
  }
 },
 "nbformat": 4,
 "nbformat_minor": 2
}
