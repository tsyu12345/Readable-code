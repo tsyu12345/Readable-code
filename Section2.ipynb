{
 "cells": [
  {
   "cell_type": "markdown",
   "metadata": {},
   "source": [
    "# 第２章：名前に情報を詰め込む"
   ]
  },
  {
   "cell_type": "markdown",
   "metadata": {},
   "source": [
    "## 1.2よりー読みやすさの基本定理ー\n",
    "> コードは他人が最短時間で理解できるように書かなければならない。  \n",
    "\n",
    "迷ったら基本この定理のことを思い出す。"
   ]
  },
  {
   "cell_type": "markdown",
   "metadata": {},
   "source": [
    "## 2.1:明確な単語を選ぶ  \n",
    "\n"
   ]
  },
  {
   "cell_type": "markdown",
   "metadata": {},
   "source": [
    "> 目的に応じた、明確な名前を付ける　　\n",
    "\n",
    "* 一般的な名前（get~やsend~）よりも、特定的で具体的な名前を付けるべき。\n",
    "* bad例 \n",
    " ```python\n",
    "  def getPage():#いったいどこからのページを取得するのか？ローカル？サーバー？色々想像できてしまう。\n",
    "```\n",
    "* good例 \n",
    " ```python\n",
    "  def getPageFromServer():#サーバーからページを取得する\n",
    "  def getPageFromLocal():#ローカルからページを取得する\n",
    " ```\n",
    "* どちらもpageを取得する関数だが、どこから取得するのかが明確になっている。\n"
   ]
  },
  {
   "cell_type": "markdown",
   "metadata": {},
   "source": [
    "* 利用例  \n",
    "```python\n",
    "class Thread:\n",
    "  def stop(self): #bad:stopという名前は、一時停止なのか、不可逆なのか明確でない。\n",
    "  #good\n",
    "  def kill(self): #そのスレッドを終了する（不可逆）\n",
    "  def pause(self): #そのスレッドを一時停止する（可逆）\n",
    "```"
   ]
  },
  {
   "cell_type": "markdown",
   "metadata": {},
   "source": [
    "使用できる単語はたくさんあるので、状況に応じて適切な単語で名前を付ける。\n",
    "> 気取った言い回しよりも明確で正確な言い回しを選ぶ。"
   ]
  },
  {
   "cell_type": "markdown",
   "metadata": {},
   "source": [
    "## 2.2 tmpやretvalなど汎用的な名前は避ける"
   ]
  },
  {
   "cell_type": "markdown",
   "metadata": {},
   "source": [
    "* エンティティの値や、そのエンティティの役割を表す名前を付ける。\n",
    "  * 例えばある関数の中で戻り値に使う変数を\"retval\"という名前にしたとしよう\n",
    "  * その変数名から読み取れる意味は「戻り値」以外にない。そんなことは関数のreturn文を見ればわかる。\n",
    "> 変数の値（役割）を示すような名前を付ける。\n",
    "\n",
    "```JavaScript\n",
    "var euclidean_norm = function(v) {\n",
    "  var retval = 0; //bad：汎用的すぎる。情報が少ない。\n",
    "  /*good*/\n",
    "  var sum_squares = 0; \n",
    "  //二乗和を格納する変数だとわかるし、仮に処理内で2乗してなかったりする変数名からバグにきづきやすい。\n",
    "  for (var i = 0; i < v.length; i++) {\n",
    "    retval += v[i] * v[i];\n",
    "  }\n",
    "  return Math.sqrt(sum_squares);\n",
    "}\n",
    "```"
   ]
  },
  {
   "cell_type": "markdown",
   "metadata": {},
   "source": [
    "### すべての汎用的な名前に意味がないわけではない\n",
    "\n",
    "* 基本的に汎用的な名前を使うときは、そのプログラム内で影響の小さいもの（範囲が狭いもの）に限定してつい買うのが良い。\n",
    "\n",
    "* bad\n",
    "  \n",
    "```python\n",
    "def create_user_account(name, id):\n",
    "    temp = \"\"\n",
    "    temp += name + \" \"\n",
    "    temp += id\n",
    "    send_data_to_server(temp)\n",
    "```\n",
    "* \"temp\"の役割が一時保管ではなく、サーバーに送信するような重要な役割を持っているのでこれは避ける。\n",
    "\n",
    "* good\n",
    "```python\n",
    "if(right < left):\n",
    "    temp = right\n",
    "    right = left\n",
    "    left = temp\n",
    "```\n",
    "* この場合、tempは一時保管の役割しかないので、tempという名前を付けても問題ない。\n",
    "* しかも、生存期間はたったの数行で、値の受け渡しのみを行っているので、tempという名前を付けても問題ない。\n",
    "\n",
    "> temp, tmpという名前は生存期間が短くて、一時的な保管の役割しかない場合に限って使う。"
   ]
  },
  {
   "cell_type": "markdown",
   "metadata": {},
   "source": [
    "* 配列で使う添え字なんかは、i, j, k, m, n, x, y, zという名前を使うでも良い。\n",
    "* しかし、次のようにイテレータが複数存在するとき、それぞれにi, j, kという名前を付けると、どのイテレータを指しているのかわからなくなる。\n",
    "```JavaScript\n",
    "for (var i = 0; i < a.length; i++) {\n",
    "  for (var j = 0; j < b.length; j++) {\n",
    "    for (var k = 0; k < c.length; k++) {\n",
    "      if(a[i].b[k] === c[j]) { //bad:b,cのインデックスが逆！バグに気づきにくい。\n",
    "        //do something\n",
    "      }\n",
    "    }\n",
    "  }\n",
    "}\n",
    "```\n",
    "* このような場合は、どのイテレータの添え字を指しているのかを明確にするために、a_index, b_index, c_indexという名前を付けると良い。\n",
    "```JavaScript\n",
    "for (var a_index = 0; a_index < a.length; a_index++) {\n",
    "  for (var b_index = 0; b_index < b.length; b_index++) {\n",
    "    for (var c_index = 0; c_index < c.length; c_index++) {\n",
    "      if(a[a_index].b[b_index] === c[c_index]) { //good：最初の文字が同じだ！（もっと短く、ai,bi,ciなどでもよい）\n",
    "        //do something\n",
    "      }\n",
    "    }\n",
    "  }\n",
    "}"
   ]
  },
  {
   "cell_type": "markdown",
   "metadata": {},
   "source": [
    "> 汎用的な名前を使うときは、それ相応の理由を用意しよう"
   ]
  },
  {
   "cell_type": "markdown",
   "metadata": {},
   "source": [
    "## 2.3 抽象的な名前よりも具体的な名前を使う"
   ]
  },
  {
   "cell_type": "markdown",
   "metadata": {},
   "source": [
    "\n",
    "> 直行する概念は、無理に1つにまとめない。それぞれに名前を付けよう。\n",
    "\n",
    "```python\n",
    "#あるポートをサーバーがリッスンするように設定する関数\n",
    "def can_start_server(port): #bad：抽象的すぎる。目的が不明瞭\n",
    "def can_listen_on_port(port): #good：具体的で目的が明確->ポートをリッスンすることが名前から明確。\n"
   ]
  },
  {
   "cell_type": "markdown",
   "metadata": {},
   "source": [
    "## 2.4 名前に情報を追加する"
   ]
  },
  {
   "cell_type": "markdown",
   "metadata": {},
   "source": [
    "> 変数名（関数名）短いコメントのようなもの。しかもその変数を呼び出す度に、その変数名を目に通すことになる。  \n",
    "\n",
    "> もし、絶対に伝えたい情報があるなら、その情報を変数名に追加しよう。"
   ]
  },
  {
   "cell_type": "markdown",
   "metadata": {},
   "source": [
    "* 特に単位を表す情報は、変数名に追加すると良い。\n",
    "* 例として時間計測のコードを考える。\n",
    "```javascript\n",
    "const start = new Date().getTime();\n",
    "const elapsed = new Date().getTime() - start;\n",
    "console.log(`経過時間：${elapsed}秒`);　//bad:単位が違う。elapsedはミリ秒だが、出力は秒。変数名に単位がないとこのようなミスが起こりやすい。\n",
    "\n",
    "//good:単位を変数名に追加することで、ミスを防ぐことができる。\n",
    "const start_ms = new Date().getTime();\n",
    "const elapsed_ms = new Date().getTime() - start_ms;\n",
    "console.log(`経過時間：${elapsed_ms / 1000}秒`);\n",
    "```"
   ]
  },
  {
   "cell_type": "markdown",
   "metadata": {},
   "source": [
    "* またセキュリティの面でも変数名に情報を追加することは重要。\n",
    "* データー受信の場面で、安全性に問題があるような変数の場合は、その変数名に「unsafe」や「untrusted」を付けると良い。\n",
    "* 例えば、パスワードを入力するフォームがあるとする。ユーザーが入力したパスワードは、そのままサーバーに送信すると、傍受などによってパスワードが漏洩する可能性がある。よって、暗号化してから送信する必要がある。\n",
    "```javascript\n",
    "const plaintext_password = document.getElementById('password').value; //plaintextは非暗号化時点のものであることが明確\n",
    "const encrypted_password = encrypt(plaintext_password); //暗号化したことが明確\n",
    "```"
   ]
  },
  {
   "cell_type": "markdown",
   "metadata": {},
   "source": [
    "> 以上のような単語の付加は、変数の意味を間違えたらバグになりそうな場合のみに使うのが良い。"
   ]
  },
  {
   "cell_type": "markdown",
   "metadata": {},
   "source": [
    "## 2.5 名前の長さを決める"
   ]
  },
  {
   "cell_type": "markdown",
   "metadata": {},
   "source": [
    "* 基本的に変数名を考えるときには、短い名前を使うことが望ましいとされる。\n",
    "> newNavigationMenuDataFromServerDataBase()のような長い名前は、読みにくく、書くのも面倒。\n",
    "* しかし、長い変数名はダメというのを厳密に守ると、変数名が1単語になってしまい、その変数の意味が不明瞭になってしまう。"
   ]
  },
  {
   "cell_type": "markdown",
   "metadata": {},
   "source": [
    "> スコープが小さい場合は短い名前でも良い\n",
    "\n",
    "* 例えば以下のようなコードがあるとする。\n",
    "```C#\n",
    "map<string, int> m;\n",
    "LookupNamesNumbers(m);\n",
    "Print(m);\n",
    "```\n",
    "* この場合、mという変数名情報が少ないが、変数宣言時に型があるので、mが何を表しているかは明確。\n",
    "\n",
    "* しかし次の場合は（mがグローバル変数の場合）mの型や目的が不明瞭になってしまう。\n",
    "```C#\n",
    "lookupNamesNumbers(m);\n",
    "Print(m); //変数のスコープが大きい場合、その変数名に情報を付加し、明瞭化する必要がある。\n",
    "```\n"
   ]
  },
  {
   "cell_type": "markdown",
   "metadata": {},
   "source": [
    "> 慣用的な名前の省略形は良くても、プロジェクト固有の名前は省略形にしない方が良い\n",
    "```javascript\n",
    "document = doc //慣用的な名前の省略形は良い\n",
    "```\n",
    "```python\n",
    "string = str\n",
    "#しかし次のように、プロジェクト固有の名前は省略形にしない方が良い\n",
    "class BackGroundController: \n",
    "#上の省略形\n",
    "class BGC: #何を表しているのか不明瞭\n",
    "```\n",
    "\n",
    "> 新人はその変数の意味を理解できないからだ。"
   ]
  },
  {
   "cell_type": "markdown",
   "metadata": {},
   "source": [
    "## 2.6 名前のフォーマットで情報を伝える"
   ]
  },
  {
   "cell_type": "markdown",
   "metadata": {},
   "source": [
    "> クラス内のインスタンス変数には、”_”など、特定の文字を付与することにより、ローカル変数なのか、インスタンス変数なのかを明確にすることができる。"
   ]
  },
  {
   "cell_type": "markdown",
   "metadata": {},
   "source": [
    "```javascript\n",
    "class Person {\n",
    "    constructor(name) {\n",
    "        this._name = name; //インスタンス変数\n",
    "    }\n",
    "\n",
    "    someMethod() {\n",
    "        const name = this._name; //ローカル変数\n",
    "        name.split(' '); //同じnameでも、インスタンス変数とローカル変数は別物\n",
    "        return name;\n",
    "    }\n",
    "}\n",
    "```"
   ]
  },
  {
   "cell_type": "markdown",
   "metadata": {},
   "source": [
    ">jQueryのオブジェクトを格納している変数には頭に”$”を付与することが多い。\n",
    "```javascript\n",
    "$all_h1 = $('h1');\n",
    "all_h1 = document.querySelectorAll('h1');\n",
    "//$のあるなしで、DOMから取得したオブジェクトか、jQueryオブジェクトかが明確になる。\n",
    "```"
   ]
  },
  {
   "cell_type": "markdown",
   "metadata": {},
   "source": [
    "* HTMLやCSSのid,class属性においても、_や-は有効な規約となる。\n",
    "```html\n",
    "<div id=\"some_div_element\"></div> <!--id属性は”_”で区切る-->\n",
    "<h1 class=\"main-title\">hogehoge</h1> <!--class属性は”-”で区切る-->\n",
    "```"
   ]
  },
  {
   "cell_type": "markdown",
   "metadata": {},
   "source": [
    "> プロジェクト内で言語の仕様に合わせて命名規則は統一するのが良い。"
   ]
  }
 ],
 "metadata": {
  "kernelspec": {
   "display_name": "Python 3.9.6 64-bit ('3.9.6')",
   "language": "python",
   "name": "python3"
  },
  "language_info": {
   "name": "python",
   "version": "3.9.6"
  },
  "orig_nbformat": 4,
  "vscode": {
   "interpreter": {
    "hash": "aefc3462955771719f87d2e1d0531f951bd2f0dab215be6b647d9147eefb747b"
   }
  }
 },
 "nbformat": 4,
 "nbformat_minor": 2
}
