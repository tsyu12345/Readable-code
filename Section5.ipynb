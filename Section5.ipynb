{
 "cells": [
  {
   "cell_type": "markdown",
   "metadata": {},
   "source": [
    "# 5.コメントすべきことを知る"
   ]
  },
  {
   "attachments": {},
   "cell_type": "markdown",
   "metadata": {},
   "source": [
    "> コメントの目的はコーダーの意図を、読み手に伝えることです。"
   ]
  },
  {
   "attachments": {},
   "cell_type": "markdown",
   "metadata": {},
   "source": [
    "## 5.1 コメントするべきではないことを知る\n",
    "\n",
    "* 新たな情報を提供しないコメントは控える\n",
    "\n",
    "```python\n",
    "# bad: コードを見れば分かる。\n",
    "class Account:\n",
    "    \"\"\"ユーザーアカウントのclass\"\"\"\n",
    "    def __init__(self, account_number, account_type, balance):\n",
    "        \"\"\"Accountクラスのコンストラクタ\"\"\"\n",
    "        self.account_number = account_number\n",
    "        self.account_type = account_type\n",
    "        self.balance = balance\n",
    "\n",
    "    def get_balance(self):\n",
    "        \"\"\"残高を取得する\"\"\"\n",
    "        return self.balance\n",
    "\n",
    "    def delete(self):\n",
    "        \"\"\"アカウントを削除する\"\"\"\n",
    "        pass\n",
    "```\n",
    "\n",
    "> コードからすぐわかることをコメントに書かない。\n",
    "\n",
    "* ただし、以下のようにメソッドを連結させて1行で書くような処理の場合は、コメントの方が理解が早くなることが多い。\n",
    "    \n",
    "    ```python\n",
    "    #2番目の'*'以降を削除する\n",
    "    name = '*'.join(names.split('*')[:2])\n",
    "    ```\n"
   ]
  },
  {
   "attachments": {},
   "cell_type": "markdown",
   "metadata": {},
   "source": [
    "### コメントのためのコメントをしない\n",
    "\n",
    "* 関数宣言のdocsにありがちだが、その関数の役割だけを記すのは、意味のないコメントになる。\n",
    "\n",
    "```python\n",
    "def find_node_in_tree(tree: Node, name:str, depth:int) -> Node | None:\n",
    "    \"\"\"与えられたツリーから、nameとdepthが一致するノードを探す\"\"\"\n",
    "# bad: 関数の名前と引数をそのままコメントしている。無駄なコメント。\n",
    "```\n",
    "\n",
    "* このようなコメントは以下のように改善されるべき\n",
    "  * この関数の戻り値について\n",
    "  * 引数の指定による挙動の違いについて\n",
    "  * この関数の挙動自体。例えば、再帰的に呼び出すことを明記するなど。\n",
    "\n",
    "```python\n",
    "def find_node_in_tree(tree: Node, name:str, depth:int) -> Node | None:\n",
    "    \"\"\"\n",
    "    与えられた’name’が一致するNodeかNoneを返す\n",
    "    もし、\n",
    "        'depth'が0の場合は、'tree'の'name'と一致するかを返す。\n",
    "        'depth'が1以上の場合は、'tree'のN階層までを再帰的に探索する。\n",
    "    \"\"\"\n",
    "```"
   ]
  },
  {
   "attachments": {},
   "cell_type": "markdown",
   "metadata": {},
   "source": [
    "### ひどい名前はコメントを付けずに名前を変える\n",
    "\n",
    "* 名前から挙動を推測できないような場合、コメントで注釈するのではなく、名前を変えるべき。\n",
    "\n",
    "```python\n",
    "#bad :関数名とコメントが一致していない。\n",
    "def delete_registry():\n",
    "    \"\"\"レジストリキーを削除する。実際のレジストリは削除しない\"\"\"\n",
    "    pass\n",
    "```\n",
    "\n",
    "* この場合、関数名を自己文書化（名前に意味を付ける）し`release_registrykey`などに変更するべき。"
   ]
  },
  {
   "attachments": {},
   "cell_type": "markdown",
   "metadata": {},
   "source": [
    "## 5.2 自分の考えを記録する\n",
    "\n",
    "* コードを書くとき、なぜそのようなコードを書いたのか \"意図\" を記録しておくことが重要。\n",
    "```TypeScript\n",
    "// このデータの場合、ハッシュテーブルより、バイナリサーチの方が速い。\n",
    "// ハッシュ計算のオーバーヘッドを考慮して、バイナリサーチを採用した.\n",
    "```\n",
    "上のコメントは、そのアルゴリズムを採用した意図が明確に書かれているので、無駄な試行錯誤を防ぐことができる。\n",
    "\n",
    "```java\n",
    "// このクラスは複雑化してきている。\n",
    "// サブクラス '<subClassName>'に分割し、機能の細分化を図るべき。\n",
    "```\n",
    "誰かに修正を促すようなコメントの場合、簡単な仕様の記載をいれよう。\n",
    "\n",
    "```java\n",
    "//ヒューリスティックの場合、判定漏れがどうしても起こるので、100%の正確性は保証できない。\n",
    "```\n",
    "このようなコメントがあれば、テストケースでの検証に無駄な時間を使わなくて済む。\n",
    "\n"
   ]
  },
  {
   "attachments": {},
   "cell_type": "markdown",
   "metadata": {},
   "source": [
    "### コードの欠陥にコメントを付ける\n",
    "\n",
    "* よくみかける`todo`や`fixme`などのコメントは、コードの欠陥や、将来設計を記録するためのもの。\n",
    "* このようなコメントは、現在のコードの質を実行することなく簡潔に伝えることができるほか、改善方向を指示することができる。\n",
    "\n",
    "```java\n",
    "//TODO: ＜後ほど手を付けるタスク＞\n",
    "//FIXME: ＜既知の不具合＞\n",
    "//HACK: ＜あまり適切でない実装、解決策＞\n",
    "//XXX: ＜危険なコード。大きな問題があることを知らせる＞\n"
   ]
  },
  {
   "attachments": {},
   "cell_type": "markdown",
   "metadata": {},
   "source": [
    "### 定数にコメントをつける\n",
    "\n",
    "* 定数にコメントを付加するときは、なぜその値なのかを記載する。\n",
    "```python\n",
    "\n",
    "NUM_THREADS = 4 # この値は「>= 2 * CPUコア数」で十分\n",
    "\n",
    "MAX_SUBSCRIPTION_COUNT = 100 # この値は、サーバーの負荷を考慮して150以下に設定すること\n",
    "\n",
    "```\n",
    "* 定数を指定するときに、考えていたことを記すのが大切。"
   ]
  },
  {
   "attachments": {},
   "cell_type": "markdown",
   "metadata": {},
   "source": [
    "## 5.2　読み手の立場で考える\n",
    "\n",
    "* ここで言う読み手とは、新人のプログラマーや、プロジェクトに配属されたばかりの新人なども含める。\n",
    "\n",
    "### 質問されそうなことを想像する。\n",
    "\n",
    "* 簡潔にかけそうな処理を、あえて複雑にしている場合、その理由をコメントで記載する。\n",
    "```cpp\n",
    "struct Recorder {\n",
    "\n",
    "    vector <int> data;\n",
    "\n",
    "    void Clear() {\n",
    "        vector <int> ().swap(data); // メモリを解放するために、一時的に空のvectorをswapする。\n",
    "        //good: data.clear();ではない理由を記載していて、?となることがない。\n",
    "    }\n",
    "}\n",
    "```\n"
   ]
  },
  {
   "attachments": {},
   "cell_type": "markdown",
   "metadata": {},
   "source": [
    "### はまりそうな罠を告知する\n",
    "\n",
    "* たとえば、外部サーバーへのリクエストなど時間がかかる処理がある場合、そのことをコメントで記載する。\n",
    "```java\n",
    "// この処理は、外部サーバーへのリクエストなので、１秒程度時間がかかる。（１分でタイムアウト）\n",
    "void SendRequest() {\n",
    "    //...\n",
    "}\n",
    "```\n",
    "このような、記載がなければ、サーバーがダウンしていとき、アプリがフリーズしてしまう可能性がある。\n",
    "また、それを避けるための無駄な実装をしてしまう可能性もある。\n",
    "\n",
    "* 他人が使った「後」よりも、「前」に実装面での注意点を告知しておくことが大切。"
   ]
  },
  {
   "attachments": {},
   "cell_type": "markdown",
   "metadata": {},
   "source": [
    "### 全体像のコメント\n",
    "\n",
    "* コード（コメントも含めて）を読んだだけでは分からないような情報を、コメントで記載する。\n",
    "* がちがちの長い説明ではなく、短い簡潔なもので構わない。ないよりも全体像を把握できる。\n",
    "\n",
    "### 要約コメント\n",
    "\n",
    "* コードの中で、複雑な処理を行っている箇所に、その処理の概要をコメントで記載する。\n",
    "* できれば、処理を関数化した方がいい場合もあるけど、そうしたくない場合は処理単位ごとにコメントを記載するのが望ましい。\n",
    "\n",
    "> コードを理解するのに役立つコメントはどんどん書こう。"
   ]
  },
  {
   "attachments": {},
   "cell_type": "markdown",
   "metadata": {},
   "source": [
    "## まとめ\n",
    "\n",
    "* コメントすべきではない事項\n",
    "  * コードから簡単に推測できること\n",
    "  * ひどいコードを補うようなコメント\n",
    "* 反対に、コメントすべき事項\n",
    "  * なぜ他のやり方ではなく、そのやり方を選んだのか\n",
    "  * TODOやFIXMEなどのタスク管理\n",
    "  * 定数の設定値に関する背景。\n",
    "\n",
    "* 読み手の立場で考える\n",
    "  * 質問されそうなことを想像する\n",
    "  * 読み手が驚くような動作は、コメントで記載する\n",
    "  * ファイル、クラスには全体像のコメントを記載する\n",
    "  * コードブロックごとに、その処理の概要を記載する"
   ]
  }
 ],
 "metadata": {
  "kernelspec": {
   "display_name": "Python 3",
   "language": "python",
   "name": "python3"
  },
  "language_info": {
   "codemirror_mode": {
    "name": "ipython",
    "version": 3
   },
   "file_extension": ".py",
   "mimetype": "text/x-python",
   "name": "python",
   "nbconvert_exporter": "python",
   "pygments_lexer": "ipython3",
   "version": "3.9.6 (tags/v3.9.6:db3ff76, Jun 28 2021, 15:26:21) [MSC v.1929 64 bit (AMD64)]"
  },
  "orig_nbformat": 4,
  "vscode": {
   "interpreter": {
    "hash": "aefc3462955771719f87d2e1d0531f951bd2f0dab215be6b647d9147eefb747b"
   }
  }
 },
 "nbformat": 4,
 "nbformat_minor": 2
}
