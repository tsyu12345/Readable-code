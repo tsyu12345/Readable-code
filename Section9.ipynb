{
 "cells": [
  {
   "attachments": {},
   "cell_type": "markdown",
   "metadata": {},
   "source": [
    "# 9.変数と読みやすさ"
   ]
  },
  {
   "attachments": {},
   "cell_type": "markdown",
   "metadata": {},
   "source": [
    "変数を扱う際の問題点として次の３点が挙げられる。\n",
    "* 変数の数が多いと追跡が難しい\n",
    "* スコープが広いと追跡が難しいのに加え、スコープ範囲を把握するのが困難\n",
    "* 変数が頻繁に更新されると偏在の値を把握するのが難しくなる。\n"
   ]
  },
  {
   "attachments": {},
   "cell_type": "markdown",
   "metadata": {},
   "source": [
    "# 9.1 変数を削除する\n",
    "\n",
    "以下の一時変数は役に立たないので削除する。\n",
    "\n",
    "```Python\n",
    "now = datetime.datetime.now()\n",
    "root_message.last_view_time = now \n",
    "# BAD\n",
    "#別に式は複雑でもない\n",
    "#datetime.datetime.now()だけでも意味は明瞭\n",
    "#重複コードの削除にもなっていない\n",
    "```\n",
    "次に以下のような、結果で使う変数を中間的に記録しているような変数は削除すべき\n",
    "```javascript\n",
    "const remove_one = function(array, value_to_remove) {\n",
    "    for(let i = 0; i < array,length; i++) {\n",
    "        let index_to_remove = null;\n",
    "        if(array[i] === value_to_remove) {\n",
    "            index_to_remove = i;\n",
    "            break;\n",
    "        }\n",
    "    }\n",
    "    if(index_to_remove !== null) {\n",
    "        array.splice(index_to_remove, 1);\n",
    "    }\n",
    "}\n",
    "// BAD\n",
    "// index_to_removeは削除する添え字を一時的に受け渡しているだけの意味のない変数になってしまっている\n",
    "// index_to_removeがあるおかげで無駄なnullチェックを挟まなければいけない\n",
    "\n",
    "// GOOD\n",
    "const remove_one = function(array, value_to_remove) {\n",
    "    for(let i = 0; i < array,length; i++) {\n",
    "        if(array[i] === value_to_remove) {\n",
    "            array.splice(i, 1); //普通にそのまま使えばいい\n",
    "            break;\n",
    "        }\n",
    "    }\n",
    "}\n",
    "```\n",
    "\n",
    "次に`done`の様な制御フロー変数を削除することを考えてみよう\n",
    "\n",
    "```cs\n",
    "boolean done = false;\n",
    "while(!done && /*その他の条件*/) {\n",
    "    if(...) {\n",
    "        done = true;\n",
    "        continue;\n",
    "    }\n",
    "}\n",
    "```\n",
    "このように、ループの制御のみに使われ、処理の結果や成果物に影響を及ぼさない変数を制御フロー変数と呼ぶ。\\\\\n",
    "この場合`done`は`break文`を使う事で削除できる。\n",
    "\n",
    "```cs\n",
    "while(/*その他の条件*/) {\n",
    "    if(...) {\n",
    "        break;\n",
    "    }\n",
    "}\n",
    "```\n",
    "こっちの方がより簡潔で読みやすい。\\\\\n",
    "ネストが深く`break文`が使えない様な場合は、処理を別の関数に切り出して、コードを分割すればよい。"
   ]
  },
  {
   "attachments": {},
   "cell_type": "markdown",
   "metadata": {},
   "source": [
    "# 9.2 変数のスコープを狭める\n",
    "\n",
    "> 変数が見える（スコープ範囲）コード行数を出来るだけ減らす\n",
    "\n",
    "クラス変数やインスタンス変数はクラスの中では「グローバル変数」のように扱われる。\\\\\n",
    "ミニグローバルともいうべきだろう。大きなクラスでは、すべてのメンバ変数を把握したり追跡するのは困難であるので、ミニグローバルな変数は出来るだけ少ないほうがいい。\\\\\n",
    "\n",
    "そして言わずもがな、グローバル変数は極力使わないほうがいい。\\\\\n",
    "例えば以下のjsコードを見てみよう\n",
    "\n",
    "```javascript\n",
    "const func = () => {\n",
    "    for(i = 0; i < 10; i++) {\n",
    "        console.log(i);\n",
    "    }\n",
    "}\n",
    "//以下は別のファイル\n",
    "alert(i); //BAD iはグローバル変数なので、別のファイルからも参照・変更できてしまう\n",
    "```\n",
    "このように通常変数はクラス、関数など特定のスコープ内で参照されるべきだが、グローバル変数はどこからでも参照できてしまうので混乱とバグを生み出す。\\\\"
   ]
  },
  {
   "attachments": {},
   "cell_type": "markdown",
   "metadata": {},
   "source": [
    "## 9.3 変数は一度だけ書き込む\n",
    "\n",
    "> 変数を操作する場所が増えると現在値の判断が難しくなる"
   ]
  },
  {
   "attachments": {},
   "cell_type": "markdown",
   "metadata": {},
   "source": [
    "9.5 まとめ\n",
    "\n",
    "* 邪魔な変数を削除する：特に一時変数や中間変数で不要なものはないか？\n",
    "* 変数のスコープを狭める：変数を数行のコードからしか見えないようにする。\n",
    "* 一度だけ書き込む変数（定数）を使おう。：`const`や`Final`は保守性を高めてくれるぞ。"
   ]
  }
 ],
 "metadata": {
  "language_info": {
   "name": "python"
  },
  "orig_nbformat": 4
 },
 "nbformat": 4,
 "nbformat_minor": 2
}
