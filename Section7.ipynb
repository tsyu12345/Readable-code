{
 "cells": [
  {
   "cell_type": "markdown",
   "metadata": {},
   "source": [
    "# 7.制御フローを読みやすくする"
   ]
  },
  {
   "attachments": {},
   "cell_type": "markdown",
   "metadata": {},
   "source": [
    "> 条件やループなどの制御フローはできるだけ自然にする。読み手が立ち止まったり、読み返したりしないように書く"
   ]
  },
  {
   "attachments": {},
   "cell_type": "markdown",
   "metadata": {},
   "source": [
    "## 7.1 条件式の引数の並び順\n",
    "\n",
    "* 基本的には、調査対象の変数を左側に、定数or比較対象の変数を右側に書く\n",
    "```python\n",
    "# BAD\n",
    "if 10 < length:\n",
    "    ...\n",
    "\n",
    "# GOOD\n",
    "if length > 10:\n",
    "    ...\n",
    "```\n"
   ]
  },
  {
   "attachments": {},
   "cell_type": "markdown",
   "metadata": {},
   "source": [
    "## 7.2 if/elseの並び順\n",
    "\n",
    "* 条件式は否定形より肯定形を使う。\n",
    "    * ```python\n",
    "        # BAD\n",
    "        if not a:\n",
    "            ...\n",
    "        else:\n",
    "            ...\n",
    "\n",
    "        # GOOD\n",
    "        if a:\n",
    "            ...\n",
    "        else:\n",
    "            ...\n",
    "    ```\n",
    "* 単純な条件式を先に書く。ifとelseが同じ画面に表示されるので分かりやすい。\n",
    "* 関心を引く条件や目立つ条件を先に書く。\n",
    "\n",
    "ただし、これらのルールは状況に応じて使い分ける必要がある。例えば以下のような場合、否定形の方が読みやすい。\n",
    "\n",
    "```python\n",
    "    user_phone_number = User.get_phone_number()\n",
    "    if not user_phone_number:\n",
    "        # ユーザーの電話番号が登録されていない場合の処理\n",
    "        ...\n",
    "    else:\n",
    "        ...\n",
    "```\n",
    "このように、値の欠損がある場合のみ処理を行いたい場合は、否定形の方が読みやすい事がある。"
   ]
  },
  {
   "attachments": {},
   "cell_type": "markdown",
   "metadata": {},
   "source": [
    "## 7.3 三項演算子\n",
    "JavaScriptやC言語など一部の言語では、三項演算子なる者が存在し、これは本来複数行にわたって記述するif/elseブロックを1行で記載することのできる便利な構文だ。\\\\\n",
    "```JavaScript\n",
    "// 三項演算子\n",
    "const time_str = (hour >= 12) ? 'PM' : 'AM';\n",
    "\n",
    "//これは以下と同値\n",
    "let time_str;\n",
    "if (hour >= 12) {\n",
    "    time_str = 'PM';\n",
    "} else {\n",
    "    time_str = 'AM';\n",
    "}\n",
    "```\n",
    "このように、単純な値代入のケースとかであればif/elseよりも三項演算子の方が読みやすい。\\\\\n",
    "しかし、以下のような場合は三項演算子を使うと読みにくくなる。\n",
    "```javascript\n",
    "// 三項演算子\n",
    "function some_func() {\n",
    "    ...\n",
    "    return　exponent >= 0 ? mantissa * (1 << exponent) : mantissa / (1 << -exponent);\n",
    "}\n",
    "```\n",
    "> 行数を短くするよりも、他人が理解するのにかかる時間を短くする。"
   ]
  },
  {
   "attachments": {},
   "cell_type": "markdown",
   "metadata": {},
   "source": [
    "## 7.4 do/while文を避ける\n",
    "\n",
    "do/whileは、ブロックを再実行するための条件が他の制御文と異なり、下側にあるため不自然で読みにくくなってしまう。\\\\\n",
    "また、continueを煩雑になってしまう。\\\\\n",
    "```cpp\n",
    "int count = 0;\n",
    "do {\n",
    "    count++;\n",
    "    continue;\n",
    "} while (false);\n",
    "\n",
    "printf(\"%d\\n\", count); // 1 注：2ではない\n",
    "```\n",
    "ただし、以下のように、コードを重複させてまでdo/whileを避けるのは、望ましくない\n",
    "```cpp\n",
    "int count = 0;\n",
    "// BAD\n",
    "addingCount(1);\n",
    "while(count < 10) {\n",
    "    addingCount(1);\n",
    "}\n",
    "// GOOD\n",
    "do {\n",
    "    addingCount(1);\n",
    "} while(count < 10);\n",
    "```\n",
    "\n"
   ]
  },
  {
   "attachments": {},
   "cell_type": "markdown",
   "metadata": {},
   "source": [
    "## 7.5 関数から早く返す（早期return）\n",
    "\n",
    "関数やメソッドの実装を進めるうえで、「ガード節」と呼ばれるブロックを作ることがある。\n",
    "```Java\n",
    "public boolean Contains(String str, String subset)  {\n",
    "    if(str == null || subset == null) {\n",
    "        return false;\n",
    "    }\n",
    "    //上のifブロックで、メソッドの処理対象外の場合は早期リターンし、処理対象を以下に記載する\n",
    "    //このようにすることで、else if やelseブロック、無駄なインテンドがなくなり読みやすくなる。\n",
    "    ....\n",
    "}"
   ]
  },
  {
   "attachments": {},
   "cell_type": "markdown",
   "metadata": {},
   "source": [
    "## 7.6 悪名高き goto\n",
    "\n",
    "C言語などでは処理を任意のブロックにジャンプさせることのできるgoto文が存在する。\\\\\n",
    "```c\n",
    "int main(void) {\n",
    "    print(\"Hello\");\n",
    "\n",
    "    goto end;\n",
    "\n",
    "    print(\"World\");\n",
    "\n",
    "end:\n",
    "    print(\"End\");\n",
    "}\n",
    "// Hello\n",
    "```\n",
    "このように、gotoはプログラミングの原則「順次、分岐」を破壊する存在なので、通常は使うべきではない。\\\\\n",
    "gotoは処理の経路を複雑にするため、スパゲッティコードを生み出すからだ。\\\\\n",
    "\n",
    "ただし、唯一の例外として、以下のような場合にはgotoを使うことがある。\n",
    "```c\n",
    "    if(p == NULL) {\n",
    "        goto error;\n",
    "    }\n",
    "error:\n",
    "    fclose(fp);\n",
    "    fclose(fp2);\n",
    "```"
   ]
  },
  {
   "attachments": {},
   "cell_type": "markdown",
   "metadata": {},
   "source": [
    "## 7.7 ネストを浅くする\n",
    "\n",
    "ネストは、コードの読みにくさを増す原因となる。\\\\\n",
    "例えば以下のようなコードは、読むときに常に条件変数の状態を把握しなければならないので大変だ。\n",
    "```javaScript\n",
    "if(user !== undefined) {\n",
    "    if(user.email === undefined) {\n",
    "        const pop = new popmessage(\"your email address is undefined. please set your email address.\");\n",
    "        pop.show();\n",
    "        pop.close(()=> {\n",
    "            window.location.href = \"/user/edit\";\n",
    "        });\n",
    "    }\n",
    "    moveRegisterPage();\n",
    "}\n",
    "```\n",
    "コードを修正するときは、上のようにネストの複雑化を防ぐため、そのブロックだけでなく、全体を見直し、ネストを浅くすることが重要だ。\\\\\n",
    "> コードを変更するときは、新鮮な目で見る。一歩下がって全体をみる。"
   ]
  }
 ],
 "metadata": {
  "kernelspec": {
   "display_name": "Python 3",
   "language": "python",
   "name": "python3"
  },
  "language_info": {
   "codemirror_mode": {
    "name": "ipython",
    "version": 3
   },
   "file_extension": ".py",
   "mimetype": "text/x-python",
   "name": "python",
   "nbconvert_exporter": "python",
   "pygments_lexer": "ipython3",
   "version": "3.10.0b3 (tags/v3.10.0b3:865714a, Jun 17 2021, 20:39:25) [MSC v.1929 64 bit (AMD64)]"
  },
  "orig_nbformat": 4,
  "vscode": {
   "interpreter": {
    "hash": "46e2f2c2539a0f155a9002db048ae27b241bc88e88056a1f76226b4698533502"
   }
  }
 },
 "nbformat": 4,
 "nbformat_minor": 2
}
