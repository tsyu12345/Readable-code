{
 "cells": [
  {
   "cell_type": "markdown",
   "metadata": {},
   "source": [
    "# 3.誤解されない名前"
   ]
  },
  {
   "cell_type": "markdown",
   "metadata": {},
   "source": [
    "> 他の人が呼んでも、誤解されない名前だろうか？と自問自答する。"
   ]
  },
  {
   "cell_type": "markdown",
   "metadata": {},
   "source": [
    "## 3.1 例filter();\n",
    "\n",
    "* 以下のようなコードがあるとする。\n",
    "\n",
    "```javascript\n",
    "listDBResult = new DataBase().filter(\"2022/01/01\");\n",
    "console.log(listDBResult); \n",
    "//この出力には、2022/01/01のレコードが除外されて表示される？それとも含まれる？\n",
    "//bad:上のような判断に誤解を生みやすい\n",
    "\n",
    "/*good*/\n",
    "listDBResult = new DataBase().exclude(\"2022/01/01\");\n",
    "listDBResult = new DataBase().select(\"2022.01.01\");\n",
    "/*レコードの取捨選択の意図が関数名から明確*/\n",
    "```\n",
    "\n"
   ]
  },
  {
   "cell_type": "markdown",
   "metadata": {},
   "source": [
    "## 3.2 例Clip();\n",
    "\n",
    "* 以下のように、指定文字数を切り取る関数を作成する。\n",
    "\n",
    "```javascript\n",
    "function clip(str, length) { //bad:最後尾から切り取るか、先頭から切り詰めるか不明\n",
    "    return str.substr(0, length);\n",
    "  /*do something*/\n",
    "}\n",
    "//またlengthの単位は何か？文字数？バイト数？単語数？\n",
    "\n",
    "/*good*/\n",
    "function truncate(str, max_chars) {} //max_chars:最大文字数と意味が明確\n",
    "```"
   ]
  },
  {
   "cell_type": "markdown",
   "metadata": {},
   "source": [
    "## 3.3 限界値を含める場合はmin,maxを使う。"
   ]
  },
  {
   "cell_type": "markdown",
   "metadata": {},
   "source": [
    "* 条件判定処理ではしばしば、制限値を用いてそれを超えるか下回るかを判定することがある。\n",
    "* 以下のような場合、境界地が含まれるか含まれないかが不明確になる。\n",
    "```python\n",
    "SHOPPING_CART_PRICE_LIMIT = 1000\n",
    "if customer.shopping_cart_total() >= SHOPPING_CART_PRICE_LIMIT:\n",
    "    Error(\"お買い上げ金額が1000円を超えました。\")\n",
    "\n",
    "#good:上限にはmax,下限にはminを付与しよう。\n",
    "MAX_SHOPPING_CART_PRICE_LIMIT = 1000\n",
    "if customer.shopping_cart_total() > MAX_SHOPPING_CART_PRICE_LIMIT:\n",
    "    Error(\"お買い上げ金額が1000円を超えました。\")\n",
    "```\n",
    "\n",
    "> 限界値を明確にするには、min,maxを付与する。"
   ]
  },
  {
   "cell_type": "markdown",
   "metadata": {},
   "source": [
    "## 3.4 範囲を指定するときにはfirstとlastを使う。\n",
    "\n"
   ]
  },
  {
   "cell_type": "markdown",
   "metadata": {},
   "source": [
    "* 次のように範囲を引数に指定する関数があるとする。\n",
    "\n",
    "```python\n",
    "def print_integers_in_range(start:int, stop:int) -> None: #bad:stopの値は含まれるか含まれないか不明\n",
    "    \"\"\"startからstopまでの整数を出力する\"\"\"\n",
    "    for i in range(start, stop):\n",
    "        print(i)\n",
    "\n",
    "print_integers_in_range(start=1, stop=10) #1から9まで?1から10まで?\n",
    "```\n",
    "\n",
    "> 包含的な範囲を示すならば、first,lastを使う。\n",
    "\n",
    "```python\n",
    "def print_integers_in_range(first:int, last:int) -> None:\n",
    "    \"\"\"firstからlastまでの整数を出力する\"\"\"\n",
    "    for i in range(first, last+1):\n",
    "        print(i)\n",
    "\n",
    "print_integers_in_range(first=1, last=10) #1から10までが出力されることが明白\n",
    "```"
   ]
  },
  {
   "cell_type": "markdown",
   "metadata": {},
   "source": [
    "## 3.5 包含/排他的範囲にはbegin,endを使う。\n",
    "\n",
    "* begin:開始値（包含）\n",
    "* end : 終了値（排他）\n",
    "\n",
    "を示すことがC++の命名規則で慣用的に使われるもの。"
   ]
  },
  {
   "cell_type": "markdown",
   "metadata": {},
   "source": [
    "## 3.6 ブール値の名前\n",
    "\n",
    "* 状態を管理する変数として、以下のboolean型変数があるとする。\n",
    "```python\n",
    "read_password: bool = False #bad:既に読み込んだ？読み込み中？読み込み済み？といくつかの解釈ができてしまう。\n",
    "```\n",
    "> boolean型の変数は、trueとfalseの意味を明確に示すような名前を付けよう。\n",
    "\n",
    "```python\n",
    "need_password: bool = False #good:パスワードが必要かどうかを示す。\n",
    "authenticated: bool = True #good:認証済みかどうかを示す。\n",
    "``` \n",
    "\n",
    "> is, has, should, can等の助動詞を先頭につけても良い。\n",
    "\n",
    "```python\n",
    "is_authenticated: bool = True #good:認証済みかどうかを示す。\n",
    "can_access: bool = True #good:アクセス可能かどうかを示す。\n",
    "```\n",
    "> 名前を否定形にするのは避けよう。（読みずらい）\n",
    "\n",
    "```python\n",
    "disable_ssl: bool = False #bad:否定形の名前は避けよう。\n",
    "use_ssl: bool = True #good:肯定形の名前を使おう。\n",
    "valid_ssl: bool = True #good:肯定形の名前を使おう。\n",
    "```"
   ]
  },
  {
   "cell_type": "markdown",
   "metadata": {},
   "source": [
    "## 3.7 ユーザの期待に合わせる。\n",
    "\n",
    "* 例えばデータの平均を計算する関数があるとする。\n",
    "* 以下のように何かメンバ、数値を返す場合はしばしばget~という名前がつけられる。\n",
    "```python\n",
    "def get_mean(numbers: List[float]) -> float: #bad:getだと万一データが多い時計算コストの大きさが伝わらない。\n",
    "    return sum(numbers) / len(numbers)\n",
    "\n",
    "def get_compute_mean(numbers: List[float]) -> float: #good:全データの平均を計算することがわかるし、計算コストも伝わる。\n",
    "    return sum(numbers) / len(numbers)\n",
    "```"
   ]
  },
  {
   "cell_type": "markdown",
   "metadata": {},
   "source": [
    "* 以下はC++において、配列のサイズを返すメソッド\n",
    "  ```cpp\n",
    "  list.size()\n",
    "  ```\n",
    "* これは、事前にサイズを計算するのではなく、この関数を呼び出すごとに計算する関数。\n",
    "* 不必要に繰り返し使うと、計算量が爆発する。\n",
    "  ```cpp\n",
    "  void pop_list(list<int> &l, int max_size){\n",
    "      while(l.size() > max_size){ //条件判定をするたびにサイズを計算しているので計算量が爆発する。\n",
    "          l.pop_front();\n",
    "    }\n",
    "  }\n",
    "    /*size() -> countSize(), countElms()のように計算することを名前で伝える必要がある。*/\n",
    "  \n",
    "  ```"
   ]
  },
  {
   "cell_type": "markdown",
   "metadata": {},
   "source": [
    "## 3.9 まとめ\n",
    "\n",
    "> 最善の名前とは誤解されない名前である。\n",
    "\n",
    "> 読み手が、作り手の意図通りに解釈できるような名前をつける。\n",
    "\n",
    "> 命名する前に、誤解されないかどうかを考えよう。\n",
    "\n",
    "> 使用する単語に対するユーザー側の期待する動作にも気を配ろう。get(), size()などは比較的計算量の少ない軽量な関数であることが期待される。\n"
   ]
  }
 ],
 "metadata": {
  "kernelspec": {
   "display_name": "Python 3.9.6 64-bit ('3.9.6')",
   "language": "python",
   "name": "python3"
  },
  "language_info": {
   "name": "python",
   "version": "3.9.6"
  },
  "orig_nbformat": 4,
  "vscode": {
   "interpreter": {
    "hash": "aefc3462955771719f87d2e1d0531f951bd2f0dab215be6b647d9147eefb747b"
   }
  }
 },
 "nbformat": 4,
 "nbformat_minor": 2
}
