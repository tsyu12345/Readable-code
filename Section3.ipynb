{
 "cells": [
  {
   "cell_type": "markdown",
   "metadata": {},
   "source": [
    "# 3.誤解されない名前"
   ]
  },
  {
   "cell_type": "markdown",
   "metadata": {},
   "source": [
    "> 他の人が呼んでも、誤解されない名前だろうか？と自問自答する。"
   ]
  },
  {
   "cell_type": "markdown",
   "metadata": {},
   "source": [
    "## 3.1 例filter();\n",
    "\n",
    "* 以下のようなコードがあるとする。\n",
    "\n",
    "```javascript\n",
    "listDBResult = new DataBase().filter(\"2022/01/01\");\n",
    "console.log(listDBResult); \n",
    "//この出力には、2022/01/01のレコードが除外されて表示される？それとも含まれる？\n",
    "//bad:上のような判断に誤解を生みやすい\n",
    "\n",
    "/*good*/\n",
    "listDBResult = new DataBase().exclude(\"2022/01/01\");\n",
    "listDBResult = new DataBase().select(\"2022.01.01\");\n",
    "/*レコードの取捨選択の意図が関数名から明確*/\n",
    "```\n",
    "\n"
   ]
  },
  {
   "cell_type": "markdown",
   "metadata": {},
   "source": [
    "## 3.2 例Clip();\n",
    "\n",
    "* 以下のように、指定文字数を切り取る関数を作成する。\n",
    "\n",
    "```javascript\n",
    "function clip(str, length) { //bad:最後尾から切り取るか、先頭から切り詰めるか不明\n",
    "    return str.substr(0, length);\n",
    "  /*do something*/\n",
    "}\n",
    "//またlengthの単位は何か？文字数？バイト数？単語数？\n",
    "\n",
    "/*good*/\n",
    "function truncate(str, max_chars) {} //max_chars:最大文字数と意味が明確\n",
    "```"
   ]
  },
  {
   "cell_type": "markdown",
   "metadata": {},
   "source": [
    "## 3.3 限界値を含める場合はmin,maxを使う。"
   ]
  },
  {
   "cell_type": "markdown",
   "metadata": {},
   "source": [
    "* 条件判定処理ではしばしば、制限値を用いてそれを超えるか下回るかを判定することがある。\n",
    "* 以下のような場合、境界地が含まれるか含まれないかが不明確になる。\n",
    "```python\n",
    "SHOPPING_CART_PRICE_LIMIT = 1000\n",
    "if customer.shopping_cart_total() >= SHOPPING_CART_PRICE_LIMIT:\n",
    "    Error(\"お買い上げ金額が1000円を超えました。\")\n",
    "\n",
    "#good:上限にはmax,下限にはminを付与しよう。\n",
    "MAX_SHOPPING_CART_PRICE_LIMIT = 1000\n",
    "if customer.shopping_cart_total() > MAX_SHOPPING_CART_PRICE_LIMIT:\n",
    "    Error(\"お買い上げ金額が1000円を超えました。\")\n",
    "```\n",
    "\n",
    "> 限界値を明確にするには、min,maxを付与する。"
   ]
  },
  {
   "cell_type": "markdown",
   "metadata": {},
   "source": [
    "## 3.4 範囲を指定するときにはfirstとlastを使う。\n",
    "\n"
   ]
  }
 ],
 "metadata": {
  "kernelspec": {
   "display_name": "Python 3.9.6 64-bit ('3.9.6')",
   "language": "python",
   "name": "python3"
  },
  "language_info": {
   "name": "python",
   "version": "3.9.6"
  },
  "orig_nbformat": 4,
  "vscode": {
   "interpreter": {
    "hash": "aefc3462955771719f87d2e1d0531f951bd2f0dab215be6b647d9147eefb747b"
   }
  }
 },
 "nbformat": 4,
 "nbformat_minor": 2
}
