{
 "cells": [
  {
   "attachments": {},
   "cell_type": "markdown",
   "metadata": {},
   "source": [
    "# 14章 テストと読みやすさ"
   ]
  },
  {
   "attachments": {},
   "cell_type": "markdown",
   "metadata": {},
   "source": [
    "## 14.1 テストを読みやすくて保守しやすいものにする\n",
    "\n",
    "> 他のプログラマが安心してテストの追加や変更ができるように、テストコードを読みやすくする。\n",
    "\n",
    "テストコードといえど甘く見てはいけない。\n",
    "\n",
    "テストコードというものは`本物のコードの動作と使い方を示した非公式な文書`と考えることができる。"
   ]
  },
  {
   "attachments": {},
   "cell_type": "markdown",
   "metadata": {},
   "source": [
    "## 14.3 テストを読みやすくする\n",
    "\n",
    "一般的な設計原則として、`大切でない詳細はユーザーから隠蔽し、大切なものは目立たせる`という原則がある。\n",
    "\n",
    "テストに関係のないコードは、関数で丸めるなどして、可能な限り隠蔽するのがベスト。\n",
    "\n",
    "### 最小のテストを作る\n",
    "\n",
    "テストの本質を、関数でまるめ、テストシーケンスの中で1行にまとめることができたら最高だ。\n",
    "大抵のテストは、「ある入力のもと、このような出力を期待する」といったことに尽きる。\n",
    "ので、テストする機能の呼び出しや、値の前処理などは、関数にまとめて、再利用できるのがいいだろう。\n",
    "\n",
    "上のようにすることで、テストケースの追加や編集が容易になる。\n",
    "\n",
    "### 独自の「ミニ言語」を実装する\n",
    "\n",
    "入力値のパース処理などは、テストの本質からは外れるので、関数でまとめて、テストシーケンスの関数内から呼び出すのが効率的だ。\n",
    "\n",
    "```TypeScript\n",
    "function parseInput(input: string): number[] {\n",
    "  return input.split(',').map((s) => parseInt(s, 10));\n",
    "}\n",
    "\n",
    "function checkValue(value: number): boolean {\n",
    "  return value >= 0 && value <= 100;\n",
    "}\n",
    "\n",
    "const testSequence = (input: string): boolean => {\n",
    "    const values = parseInput(input);\n",
    "    return values.every(checkValue);\n",
    "};\n",
    "\n",
    "const test = (): void => {\n",
    "    const inputs = [\n",
    "        '0,1,2,3,4,5,6,7,8,9',\n",
    "        '0,1,2,3,4,5,6,7,8,9,100',\n",
    "        '0,1,2,3,4,5,6,7,8,9,101',\n",
    "        '0,1,2,3,4,5,6,7,8,9,100,101',\n",
    "    ];\n",
    "    inputs.forEach((input) => {\n",
    "        console.log(testSequence(input));\n",
    "    });\n",
    "};\n",
    "```\n",
    "\n"
   ]
  },
  {
   "attachments": {},
   "cell_type": "markdown",
   "metadata": {},
   "source": [
    "## 14.4 エラーメッセージを読みやすくする。\n",
    "\n",
    "多くの言語では、テスト結果と期待する結果を比較するために、`assert`関数を提供している。\n",
    "\n",
    "```cpp\n",
    "assert(1 == 2);\n",
    "assert(1 == 1);\n",
    "//error: assert failed: 1 == 2\n",
    "```\n",
    "しかし、標準ライブラリのassert関数は、エラーメッセージが不十分である。\n",
    "そこで、Boost C++ライブラリを使うことで、より詳細なテスト結果を得ることができる。\n",
    "```cpp\n",
    "BOOST_REQUIRE_EQUAL(1, 2);\n",
    "BOOST_REQUIRE_EQUAL(1, 1);\n",
    "//error: test.cpp(3): fatal error in \"test\": check 1 == 2 failed [1 != 2]\n",
    "```\n",
    "\n",
    "そして、それでも不十分な場合は自身で作ってしまえばいい。\n",
    "\n",
    "ここから学べることは、`エラーメッセージは詳細に書くこと`である。\n"
   ]
  },
  {
   "attachments": {},
   "cell_type": "markdown",
   "metadata": {},
   "source": [
    "## 14.5 テストの適切な入力値を選択する\n",
    "\n",
    "テストで使う入力値は、\n",
    "* 簡潔でかつ読みやすいもの\n",
    "* コードを完全にテストできるもの\n",
    "上の2点を満たすような値でなければいけない。\n",
    "\n",
    "> コードを完全にテストする最も単純な入力値の組み合わせを選択しなければいけない。\n",
    "\n",
    "例えば、`SortAndFilterDocs()`に負の値を削除するという機能がある場合、以下のようにテストコードを書いた場合は無意味だ。\n",
    "```cpp\n",
    "BOOST_REQUIRE_EQUAL(SortAndFilterDocs({0, 1, 2, 3}));\n",
    "//BAD: 負の値が含まれていない、かつ、もうすでにソートされている。\n",
    "//以下のような複雑な値もＮＧだ\n",
    "BOOST_REQUIRE_EQUAL(SortAndFilterDocs({2444435345, -34531, 3452, 4533, -456671, -2, -63677}));\n",
    "```\n",
    "> テストには最もきれいで単純な値を使う。\n"
   ]
  }
 ],
 "metadata": {
  "language_info": {
   "name": "python"
  },
  "orig_nbformat": 4
 },
 "nbformat": 4,
 "nbformat_minor": 2
}
